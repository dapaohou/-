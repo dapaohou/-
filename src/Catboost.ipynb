{
 "cells": [
  {
   "cell_type": "code",
   "execution_count": 1,
   "metadata": {},
   "outputs": [],
   "source": [
    "import pandas as pd\n",
    "import numpy as np\n",
    "from matplotlib import pyplot as plt\n",
    "from pylab import mpl\n",
    "import seaborn as sns\n",
    "from scipy import stats\n",
    "from scipy.stats import norm, skew\n",
    "color = sns.color_palette()\n",
    "# sns.set_style('darkgrid')\n",
    "%matplotlib inline\n",
    "import warnings \n",
    "warnings.filterwarnings('ignore')\n",
    "mpl.rcParams['font.sans-serif'] = ['FangSong'] # 指定默认字体\n",
    "mpl.rcParams['axes.unicode_minus'] = False # 解决保存图像是负号'-'显示为方块的问题"
   ]
  },
  {
   "cell_type": "code",
   "execution_count": 2,
   "metadata": {},
   "outputs": [
    {
     "data": {
      "text/plain": [
       "(5642, 42)"
      ]
     },
     "execution_count": 2,
     "metadata": {},
     "output_type": "execute_result"
    }
   ],
   "source": [
    "train_df = pd.read_csv('../data/train.csv', encoding='gbk')\n",
    "test_df = pd.read_csv('../data/test.csv', encoding='gbk')\n",
    "train_df.shape"
   ]
  },
  {
   "cell_type": "code",
   "execution_count": 3,
   "metadata": {},
   "outputs": [],
   "source": [
    "# 空值填充分两种，一种是空置太多的直接删除特征，一种是用均值或中值填充\n",
    "def checknan(df):\n",
    "    colnan = df.count() / df.shape[0]\n",
    "    colnan = colnan[colnan < 0.5]\n",
    "    return list(colnan.index)\n",
    "def drop_fill(df):\n",
    "    delcols = checknan(df)\n",
    "    df.drop(delcols, 1, inplace=True) #删除缺失值多于一半的特征\n",
    "    df.drop(['体检日期'], 1 ,inplace=True)\n",
    "    df.fillna(-999, inplace=True)\n",
    "    return df\n",
    "def encode_cols(df):\n",
    "    if isinstance(df['性别'][1],int):\n",
    "        return \n",
    "    else:\n",
    "        df['性别'] = df['性别'].map({'男': 0, '女': 1, '??': 3})\n",
    "        return df\n",
    "    \n",
    "df = pd.concat([train_df, test_df], axis=0, ignore_index=True)\n",
    "train_df = drop_fill(train_df)\n",
    "encode_cols(train_df)\n",
    "\n",
    "#新建特征\n",
    "train_df['高低胆固醇比例'] = train_df['低密度脂蛋白胆固醇'] / train_df['高密度脂蛋白胆固醇']\n",
    "train_df['红白细胞比例'] = train_df['白细胞计数'] / train_df['红细胞计数']\n",
    "train_df.drop(['id'], 1 ,inplace=True)\n",
    "\n",
    "x = np.array(train_df.drop([ '血糖'], axis=1))\n",
    "y = np.array(train_df['血糖'])"
   ]
  },
  {
   "cell_type": "code",
   "execution_count": 4,
   "metadata": {},
   "outputs": [],
   "source": [
    "from catboost import CatBoostRegressor\n",
    "from sklearn.model_selection import GridSearchCV\n",
    "from sklearn import metrics"
   ]
  },
  {
   "cell_type": "code",
   "execution_count": 5,
   "metadata": {},
   "outputs": [],
   "source": [
    "def show_scatter(y, y_pred, legend0, legend1, showlenth=10):\n",
    "    fig = plt.figure()\n",
    "    ax = fig.add_subplot(111)\n",
    "    ax.scatter(range(showlenth),y[:showlenth], label=legend0)\n",
    "    ax.scatter(range(showlenth),y_pred[:showlenth],label =legend1)\n",
    "    plt.legend()\n",
    "    plt.show()"
   ]
  },
  {
   "cell_type": "code",
   "execution_count": 9,
   "metadata": {},
   "outputs": [
    {
     "data": {
      "image/png": "[encoded data removed]",
      "text/plain": [
       "<matplotlib.figure.Figure at 0x191992a5ba8>"
      ]
     },
     "metadata": {},
     "output_type": "display_data"
    },
    {
     "name": "stdout",
     "output_type": "stream",
     "text": [
      "original train score: 0.860086410545\n"
     ]
    }
   ],
   "source": [
    "# Randomforest 默认参数\n",
    "model_rf = CatBoostRegressor(random_seed=100)\n",
    "model_rf.fit(x, y,verbose=False,logging_level='Silent')\n",
    "y_pred = model_rf.predict(x)\n",
    "show_scatter(y, y_pred, 'y', 'y_pre')\n",
    "print('original train score:',metrics.mean_squared_error(y, y_pred))"
   ]
  },
  {
   "cell_type": "code",
   "execution_count": null,
   "metadata": {},
   "outputs": [],
   "source": [
    "param_test1 = {'n_estimators':range(10,101,10)}\n",
    "grid_cv = GridSearchCV(estimator=model_rf, param_grid= param_test1, scoring='neg_mean_squared_error', cv=5)\n",
    "grid_cv.fit(x, y)"
   ]
  }
 ],
 "metadata": {
  "kernelspec": {
   "display_name": "Python 3",
   "language": "python",
   "name": "python3"
  },
  "language_info": {
   "codemirror_mode": {
    "name": "ipython",
    "version": 3
   },
   "file_extension": ".py",
   "mimetype": "text/x-python",
   "name": "python",
   "nbconvert_exporter": "python",
   "pygments_lexer": "ipython3",
   "version": "3.6.3"
  }
 },
 "nbformat": 4,
 "nbformat_minor": 2
}
